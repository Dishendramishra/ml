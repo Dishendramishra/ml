{
 "cells": [
  {
   "cell_type": "markdown",
   "metadata": {},
   "source": [
    "### Visualizing Sigmoid Function"
   ]
  },
  {
   "cell_type": "code",
   "execution_count": 10,
   "metadata": {},
   "outputs": [
    {
     "data": {
      "image/png": "[encoded data removed]",
      "text/plain": [
       "<matplotlib.figure.Figure at 0x7f8c859d24a8>"
      ]
     },
     "metadata": {},
     "output_type": "display_data"
    }
   ],
   "source": [
    "import matplotlib.pyplot as plt\n",
    "import math\n",
    "\n",
    "sigmoid = lambda x: 1/(1+math.e**(-x))\n",
    "\n",
    "m = 10\n",
    "\n",
    "y = [ sigmoid(x) for x in range(-m,m)]\n",
    "\n",
    "plt.scatter(range(-m,m), y);"
   ]
  },
  {
   "cell_type": "code",
   "execution_count": null,
   "metadata": {},
   "outputs": [],
   "source": [
    "\n"
   ]
  },
  {
   "cell_type": "markdown",
   "metadata": {},
   "source": [
    "### Problem  of Overfitting"
   ]
  },
  {
   "cell_type": "markdown",
   "metadata": {},
   "source": [
    "<img src=\"./graph.png\" width=\"200\" style=\"float: left;\">\n",
    "\n",
    "### $$ h_\\theta(x) = g(\\theta_0+\\theta_1x_1+\\theta_2x_2^2+\\theta_3x_1^2x_2+\\theta_4x_1^2x_2^2+\\theta_5x_1^2x_2^2..) $$"
   ]
  },
  {
   "cell_type": "markdown",
   "metadata": {},
   "source": [
    "### Cost function of Logistic Regression\n",
    "\n",
    "### $ J(\\theta) = \\frac{1}{m} \\sum_{i=1}^{m} \\big[ y^{(i)}.log(h_{\\theta}(x^{(i)})) + (1-y^{(i)}).log(1-h_{\\theta}(x^{(i)})) \\big]$\n",
    "\n",
    "<br><br><br><br>"
   ]
  },
  {
   "cell_type": "markdown",
   "metadata": {},
   "source": [
    "### Gradient Descent\n",
    "\n",
    "\n",
    "#### Repeat  $\\{$\n",
    "### $ \\theta_j := \\theta_j -  \\alpha.\\dfrac {\\partial J(\\theta)}{\\partial \\theta_j} $\n",
    "#### $\\}$"
   ]
  },
  {
   "cell_type": "markdown",
   "metadata": {},
   "source": [
    "<br><br><br><br><br><br><br><br><br><br><br><br><br><br><br><br><br><br><br><br><br><br><br><br><br><br><br><br><br><br><br><br><br><br><br><br><br><br><br><br><br><br><br>"
   ]
  },
  {
   "cell_type": "markdown",
   "metadata": {},
   "source": [
    "### Gradient Descent for Regularized Logistic Regression\n",
    "\n",
    "#### Repeat  $\\{$\n",
    "### $$ \\theta_j := \\theta_j.(1-\\dfrac{\\alpha\\lambda}{m}) +  \\alpha.\\dfrac{1}{m} \\sum_{i=1}^m \\big[ h_\\theta(x^{(i)})-y^{(i)} \\big].x^{(i)}_j $$\n",
    "#### $\\}$ "
   ]
  }
 ],
 "metadata": {
  "kernelspec": {
   "display_name": "Python 3",
   "language": "python",
   "name": "python3"
  },
  "language_info": {
   "codemirror_mode": {
    "name": "ipython",
    "version": 3
   },
   "file_extension": ".py",
   "mimetype": "text/x-python",
   "name": "python",
   "nbconvert_exporter": "python",
   "pygments_lexer": "ipython3",
   "version": "3.6.3"
  }
 },
 "nbformat": 4,
 "nbformat_minor": 2
}
